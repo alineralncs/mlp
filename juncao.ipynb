{
 "cells": [
  {
   "cell_type": "code",
   "execution_count": 1,
   "metadata": {},
   "outputs": [
    {
     "name": "stdout",
     "output_type": "stream",
     "text": [
      "<class 'pandas.core.frame.DataFrame'>\n",
      "RangeIndex: 32865 entries, 0 to 32864\n",
      "Data columns (total 20 columns):\n",
      " #   Column              Non-Null Count  Dtype  \n",
      "---  ------              --------------  -----  \n",
      " 0   track_name          32860 non-null  object \n",
      " 1   artistas            32865 non-null  object \n",
      " 2   track_popularity    32865 non-null  int64  \n",
      " 3   track_album_name    32860 non-null  object \n",
      " 4   playlist_genre      32865 non-null  object \n",
      " 5   playlist_subgenre   32865 non-null  object \n",
      " 6   danceability        32865 non-null  float64\n",
      " 7   energy              32865 non-null  float64\n",
      " 8   key                 32865 non-null  int64  \n",
      " 9   loudness            32865 non-null  float64\n",
      " 10  mode                32865 non-null  int64  \n",
      " 11  speechiness         32865 non-null  float64\n",
      " 12  acousticness        32865 non-null  float64\n",
      " 13  instrumentalness    32865 non-null  float64\n",
      " 14  liveness            32865 non-null  float64\n",
      " 15  valence             32865 non-null  float64\n",
      " 16  tempo               32865 non-null  float64\n",
      " 17  followers           12335 non-null  float64\n",
      " 18  popularity          12335 non-null  float64\n",
      " 19  imagem_artista_url  32865 non-null  object \n",
      "dtypes: float64(11), int64(3), object(6)\n",
      "memory usage: 5.0+ MB\n"
     ]
    }
   ],
   "source": [
    "import pandas as pd\n",
    "\n",
    "dataset = pd.read_csv('dataset_completo.csv')\n",
    "\n",
    "colunas_irrelevantes = ['artist_id', 'genres','image_url', 'count']\n",
    "dataset = dataset.drop(columns=colunas_irrelevantes)\n",
    "dataset['imagem_artista_url'].fillna('https://upload.wikimedia.org/wikipedia/commons/thumb/6/65/No-Image-Placeholder.svg/1665px-No-Image-Placeholder.svg.png', inplace=True)\n",
    "dataset['artistas'].fillna('Desconhecido', inplace=True)\n",
    "\n",
    "dataset.drop_duplicates(subset='track_name')\n",
    "dataset.info()\n",
    "\n",
    "dataset.to_csv('dataset_final.csv')\n"
   ]
  }
 ],
 "metadata": {
  "kernelspec": {
   "display_name": "dataScience",
   "language": "python",
   "name": "python3"
  },
  "language_info": {
   "codemirror_mode": {
    "name": "ipython",
    "version": 3
   },
   "file_extension": ".py",
   "mimetype": "text/x-python",
   "name": "python",
   "nbconvert_exporter": "python",
   "pygments_lexer": "ipython3",
   "version": "3.10.9"
  },
  "orig_nbformat": 4
 },
 "nbformat": 4,
 "nbformat_minor": 2
}
